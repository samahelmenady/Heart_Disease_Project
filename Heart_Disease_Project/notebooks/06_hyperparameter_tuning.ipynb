{
 "cells": [
  {
   "cell_type": "code",
   "id": "initial_id",
   "metadata": {
    "ExecuteTime": {
     "end_time": "2025-07-25T12:34:36.617715Z",
     "start_time": "2025-07-25T12:33:09.991689Z"
    }
   },
   "source": [
    "import pandas as pd\n",
    "import numpy as np\n",
    "from sklearn.model_selection import train_test_split, GridSearchCV\n",
    "from sklearn.ensemble import RandomForestClassifier\n",
    "from sklearn.metrics import accuracy_score, precision_score, recall_score, f1_score\n",
    "import joblib\n",
    "import os\n",
    "\n",
    "# التأكد من وجود المجلدات\n",
    "os.makedirs('../models', exist_ok=True)\n",
    "os.makedirs('../data', exist_ok=True)\n",
    "os.makedirs('../results/evaluation', exist_ok=True)\n",
    "\n",
    "# تحميل البيانات\n",
    "data = pd.read_csv('../data/selected_features.csv')  # تصحيح اسم الملف\n",
    "X = data\n",
    "\n",
    "# تحميل عمود target من البيانات الأصلية\n",
    "url = \"https://archive.ics.uci.edu/ml/machine-learning-databases/heart-disease/processed.cleveland.data\"\n",
    "columns = ['age', 'sex', 'cp', 'trestbps', 'chol', 'fbs', 'restecg', 'thalach', 'exang', 'oldpeak', 'slope', 'ca', 'thal', 'target']\n",
    "data_original = pd.read_csv(url, names=columns)\n",
    "data_original = data_original.replace('?', np.nan)\n",
    "data_original['ca'] = data_original['ca'].astype(float)\n",
    "data_original['thal'] = data_original['thal'].astype(float)\n",
    "data_original = data_original.fillna(data_original.mean())\n",
    "y = (data_original['target'] > 0).astype(int)  # تحويل إلى تصنيف ثنائي\n",
    "\n",
    "# تقسيم البيانات إلى تدريب واختبار\n",
    "X_train, X_test, y_train, y_test = train_test_split(X, y, test_size=0.2, random_state=42)\n",
    "\n",
    "# تحديد شبكة المعلمات لـ Random Forest\n",
    "param_grid = {\n",
    "    'n_estimators': [100, 200, 300],\n",
    "    'max_depth': [None, 10, 20, 30],\n",
    "    'min_samples_split': [2, 5, 10],\n",
    "    'min_samples_leaf': [1, 2, 4],\n",
    "    'bootstrap': [True, False]\n",
    "}\n",
    "\n",
    "# إنشاء النموذج\n",
    "rf = RandomForestClassifier(random_state=42)\n",
    "\n",
    "# تهيئة المعلمات باستخدام GridSearchCV\n",
    "grid_search = GridSearchCV(estimator=rf, param_grid=param_grid, cv=5, scoring='accuracy', n_jobs=-1, verbose=1)\n",
    "grid_search.fit(X_train, y_train)\n",
    "\n",
    "# عرض أفضل المعلمات والنتيجة\n",
    "print(f\"أفضل المعلمات: {grid_search.best_params_}\")\n",
    "print(f\"أفضل دقة على مجموعة التدريب (CV): {grid_search.best_score_:.4f}\")\n",
    "\n",
    "# تقييم النموذج النهائવضل النموذج النهائي على مجموعة الاختبار\n",
    "best_model = grid_search.best_estimator_\n",
    "y_pred = best_model.predict(X_test)\n",
    "results = {\n",
    "    'Model': 'Tuned Random Forest',\n",
    "    'Accuracy': accuracy_score(y_test, y_pred),\n",
    "    'Precision': precision_score(y_test, y_pred, average='weighted', zero_division=0),\n",
    "    'Recall': recall_score(y_test, y_pred, average='weighted', zero_division=0),\n",
    "    'F1-Score': f1_score(y_test, y_pred, average='weighted', zero_division=0)\n",
    "}\n",
    "\n",
    "# حفظ النتائج\n",
    "results_df = pd.DataFrame([results])\n",
    "results_df.to_csv('../results/evaluation/tuned_model_metrics.csv', index=False)\n",
    "print(\"\\nنتائج النموذج النهائي على مجموعة الاختبار:\")\n",
    "print(results_df)\n",
    "\n",
    "# حفظ النموذج النهائي\n",
    "joblib.dump(best_model, '../models/final_model.pkl')\n",
    "\n",
    "# حفظ أفضل المعلمات\n",
    "best_params_df = pd.DataFrame([grid_search.best_params_])\n",
    "best_params_df.to_csv('../results/evaluation/best_parameters.csv', index=False)"
   ],
   "outputs": [
    {
     "name": "stdout",
     "output_type": "stream",
     "text": [
      "Fitting 5 folds for each of 216 candidates, totalling 1080 fits\n",
      "أفضل المعلمات: {'bootstrap': True, 'max_depth': None, 'min_samples_leaf': 4, 'min_samples_split': 2, 'n_estimators': 100}\n",
      "أفضل دقة على مجموعة التدريب (CV): 0.8180\n",
      "\n",
      "نتائج النموذج النهائي على مجموعة الاختبار:\n",
      "                 Model  Accuracy  Precision    Recall  F1-Score\n",
      "0  Tuned Random Forest  0.901639   0.903684  0.901639  0.901692\n"
     ]
    }
   ],
   "execution_count": 1
  }
 ],
 "metadata": {
  "kernelspec": {
   "display_name": "Python 3 (ipykernel)",
   "language": "python",
   "name": "python3"
  },
  "language_info": {
   "codemirror_mode": {
    "name": "ipython",
    "version": 3
   },
   "file_extension": ".py",
   "mimetype": "text/x-python",
   "name": "python",
   "nbconvert_exporter": "python",
   "pygments_lexer": "ipython3",
   "version": "3.12.4"
  }
 },
 "nbformat": 4,
 "nbformat_minor": 5
}
